{
 "cells": [
  {
   "cell_type": "code",
   "execution_count": 2,
   "metadata": {},
   "outputs": [
    {
     "name": "stderr",
     "output_type": "stream",
     "text": [
      "Using TensorFlow backend.\n"
     ]
    },
    {
     "ename": "AttributeError",
     "evalue": "module 'tensorflow' has no attribute 'disable_v2_behavior'",
     "output_type": "error",
     "traceback": [
      "\u001b[0;31m---------------------------------------------------------------------------\u001b[0m",
      "\u001b[0;31mAttributeError\u001b[0m                            Traceback (most recent call last)",
      "\u001b[0;32m<ipython-input-2-62c46dee63a0>\u001b[0m in \u001b[0;36m<module>\u001b[0;34m\u001b[0m\n\u001b[1;32m      7\u001b[0m \u001b[0;32mfrom\u001b[0m \u001b[0mkeras\u001b[0m\u001b[0;34m.\u001b[0m\u001b[0mlayers\u001b[0m \u001b[0;32mimport\u001b[0m \u001b[0mDense\u001b[0m\u001b[0;34m\u001b[0m\u001b[0;34m\u001b[0m\u001b[0m\n\u001b[1;32m      8\u001b[0m \u001b[0;34m\u001b[0m\u001b[0m\n\u001b[0;32m----> 9\u001b[0;31m \u001b[0mtf\u001b[0m\u001b[0;34m.\u001b[0m\u001b[0mdisable_v2_behavior\u001b[0m\u001b[0;34m(\u001b[0m\u001b[0;34m)\u001b[0m\u001b[0;34m\u001b[0m\u001b[0;34m\u001b[0m\u001b[0m\n\u001b[0m\u001b[1;32m     10\u001b[0m \u001b[0;34m\u001b[0m\u001b[0m\n\u001b[1;32m     11\u001b[0m \u001b[0mRANDOM_SEED\u001b[0m \u001b[0;34m=\u001b[0m \u001b[0;36m42\u001b[0m\u001b[0;34m\u001b[0m\u001b[0;34m\u001b[0m\u001b[0m\n",
      "\u001b[0;31mAttributeError\u001b[0m: module 'tensorflow' has no attribute 'disable_v2_behavior'"
     ]
    }
   ],
   "source": [
    "import tensorflow.compat.v1 as tf\n",
    "import tensorflow as tf\n",
    "import numpy as np\n",
    "import matplotlib.pyplot as plt\n",
    "from sklearn import linear_model\n",
    "from keras.models import Sequential\n",
    "from keras.layers import Dense\n",
    "\n",
    "tf.disable_v2_behavior()\n",
    "\n",
    "RANDOM_SEED = 42\n",
    "tf.compat.v1.set_random_seed(RANDOM_SEED)\n",
    "\n",
    "x_point = []\n",
    "y_point = []\n",
    "\n",
    "m = 3.7\n",
    "n_samples = 10\n",
    "train_x = np.linspace(0,20,n_samples)\n",
    "train_y = m * train_x + 14 + 4 * np.random.randn(n_samples)\n",
    "\n",
    "plt.plot(train_x, train_y,'.')\n",
    "\n",
    "for i in range(n_samples):\n",
    "    x_point.append([train_x[i]])\n",
    "    y_point.append([train_y[i]])  \n",
    "plt.plot(train_x, train_y, '*', label='Input Data')\n",
    "\n",
    "\n",
    "linreg = linear_model.LinearRegression()\n",
    "linreg.fit(x_point,y_point)\n",
    "print(linreg.intercept_)\n",
    "print(linreg.coef_)\n",
    "\n",
    "plt.plot(x_point, linreg.coef_*x_point + linreg.intercept_)\n",
    "\n",
    "plt.show()\n"
   ]
  },
  {
   "cell_type": "code",
   "execution_count": null,
   "metadata": {},
   "outputs": [],
   "source": [
    "graph = tf.Graph()\n",
    "with graph.as_default():\n",
    "  slope = tf.Variable(tf.random_uniform([1], -1.0, 1.0))\n",
    "  intercept = tf.Variable(tf.zeros([1]))\n",
    "  response = slope*x_point + intercept\n",
    "  #############################################\n",
    "  # Define Cost + Optimization Functions\n",
    "  loss = tf.square(response - y_point)\n",
    "  cost = tf.reduce_mean(loss)\n",
    "  optimizer = tf.train.GradientDescentOptimizer(0.001).minimize(cost)"
   ]
  },
  {
   "cell_type": "code",
   "execution_count": null,
   "metadata": {},
   "outputs": [],
   "source": [
    "with tf.Session(graph=graph) as session:\n",
    "  init = tf.global_variables_initializer()\n",
    "  session.run(init)\n",
    "  for epoch in range(10000):\n",
    "      session.run(optimizer)\n",
    "      if ( epoch % 1000 ) == 0:\n",
    "          #session.run(tf.print(\"loss\"+\"\\n\",loss))\n",
    "          print(session.run(cost))\n",
    "          plt.plot(x_point, y_point, '+', label = 'step = {}'.format(epoch))\n",
    "          plt.plot(x_point, session.run(slope)*x_point + session.run(intercept))\n",
    "          plt.legend()\n",
    "          plt.show()\n",
    "  print(\"Slope = \",session.run(slope))\n",
    "  print(\"Intercept = \",session.run(intercept))\n",
    "  print(\"Actual Slope = \",linreg.coef_)\n",
    "  print(\"Actual Intercept = \",linreg.intercept_)\n"
   ]
  },
  {
   "cell_type": "code",
   "execution_count": null,
   "metadata": {},
   "outputs": [],
   "source": [
    "print('tenssorflow_version: ',tf.__version__)\n",
    "print('keras_version: ',keras.__version__)"
   ]
  },
  {
   "cell_type": "code",
   "execution_count": null,
   "metadata": {},
   "outputs": [],
   "source": [
    "model = Sequential()\n",
    "model.add(Dense(1, input_dim=1, kernel_initializer='normal', activation='linear'))\n",
    "model.compile(loss='mean_squared_error',optimizer='rmsprop',metrics=['mse'])\n",
    "model.summary()\n",
    "epochs = 100000\n",
    "\n",
    "hist = model.fit(train_x,train_y,epochs=epochs)\n",
    "#weightBias = model.layers\n",
    "#print( session.run(weightBias))"
   ]
  },
  {
   "cell_type": "code",
   "execution_count": null,
   "metadata": {},
   "outputs": [],
   "source": [
    "train_loss = hist.history['loss']\n",
    "xc = range(epochs)\n",
    "plt.plot(xc,train_loss)\n",
    "\n",
    "plt.figure(1,figsize=(7,5))\n",
    "plt.xlabel('num of Epochs')\n",
    "plt.ylabel('loss')\n",
    "plt.title('train_loss')\n",
    "plt.grid(True)\n",
    "plt.style.use('ggplot')"
   ]
  },
  {
   "cell_type": "code",
   "execution_count": null,
   "metadata": {},
   "outputs": [],
   "source": [
    "\n"
   ]
  },
  {
   "cell_type": "code",
   "execution_count": null,
   "metadata": {},
   "outputs": [],
   "source": []
  },
  {
   "cell_type": "code",
   "execution_count": null,
   "metadata": {},
   "outputs": [],
   "source": [
    "sess = tf.compat.v1.Session()\n",
    "weightBias = model.layers[0]\n"
   ]
  },
  {
   "cell_type": "code",
   "execution_count": null,
   "metadata": {},
   "outputs": [],
   "source": [
    "sess = tf.compat.v1.Session()"
   ]
  },
  {
   "cell_type": "code",
   "execution_count": null,
   "metadata": {},
   "outputs": [],
   "source": [
    "x_test = train_x\n",
    "y_test = train_y\n",
    "b ="
   ]
  },
  {
   "cell_type": "code",
   "execution_count": null,
   "metadata": {},
   "outputs": [],
   "source": [
    "model.layers[0].output[0]"
   ]
  },
  {
   "cell_type": "code",
   "execution_count": null,
   "metadata": {},
   "outputs": [],
   "source": []
  }
 ],
 "metadata": {
  "kernelspec": {
   "display_name": "Python 3",
   "language": "python",
   "name": "python3"
  },
  "language_info": {
   "codemirror_mode": {
    "name": "ipython",
    "version": 3
   },
   "file_extension": ".py",
   "mimetype": "text/x-python",
   "name": "python",
   "nbconvert_exporter": "python",
   "pygments_lexer": "ipython3",
   "version": "3.7.4"
  }
 },
 "nbformat": 4,
 "nbformat_minor": 2
}
