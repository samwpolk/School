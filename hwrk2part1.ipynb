{
 "cells": [
  {
   "cell_type": "code",
   "execution_count": 4,
   "metadata": {},
   "outputs": [],
   "source": [
    "import tensorflow as tf\n",
    "import numpy as np\n",
    "\n",
    "X = np.array([[0.,0.],[1.,0.],[0.,1.],[1.,1.]])\n",
    "Y = np.array([[0.],[1.],[1.],[0.]])\n",
    "W1 = np.array([[-4., -6.,-5.],[3.,6.,4.]])\n",
    "b1 = np.array([[-2.,3.,-2.1]])\n",
    "W2 = np.transpose(np.array([[5.,-9.,7.]]))\n",
    "b2 = np.array([[4.]])"
   ]
  },
  {
   "cell_type": "code",
   "execution_count": 5,
   "metadata": {},
   "outputs": [
    {
     "name": "stdout",
     "output_type": "stream",
     "text": [
      "========Final Output===========\n",
      "Output\n",
      " [[0.038661783217827352]\n",
      " [0.97316646428058706]\n",
      " [0.99138254119470581]\n",
      " [0.017379304576728066]]\n",
      "\n",
      "error\n",
      " [[0.0014947334815822767]\n",
      " [0.00072003863920501]\n",
      " [7.426059626094231e-05]\n",
      " [0.00030204022757068111]]\n",
      "===============================\n"
     ]
    }
   ],
   "source": [
    "lr = .1\n",
    "ep = 1000\n",
    "\n",
    "for stp in range(ep):\n",
    "    \n",
    "   l1 = tf.sigmoid(tf.linalg.matmul(X,W1) + b1)\n",
    "\n",
    "   output = tf.sigmoid(tf.linalg.matmul(l1,W2) + b2)\n",
    "    \n",
    "   err = (Y - output)**2\n",
    "\n",
    "   #error * slope of activation function\n",
    "   #out_d = err * -lr * (output * (1 - output))\n",
    "   out_d = err * (output * (1 - output))\n",
    "    \n",
    "   #l1_d = tf.linalg.matmul(out_d,np.transpose(W2)) * -lr * (l1*(1 - l1))\n",
    "   l1_d = tf.linalg.matmul(out_d,np.transpose(W2)) * (l1*(1 - l1))\n",
    "   \n",
    "   #update Weights based on the error and the slope of activation function\n",
    "   W2 -= lr * tf.linalg.matmul(np.transpose(l1_d),out_d)\n",
    "   W1 -= lr * tf.linalg.matmul(np.transpose(X),l1_d)\n",
    "    \n",
    "   cost = tf.reduce_mean(-Y*tf.math.log(output) - (1 - Y)*tf.math.log(1 - output))\n",
    "\n",
    "   #if stp % 100 == 0:\n",
    "\n",
    "       #tf.print(\"cost\"+\"\\n\", cost )\n",
    "       #print()\n",
    "       #tf.print(\"error\"+\"\\n\",err)\n",
    "       #print()\n",
    "\n",
    "\n",
    "\n",
    "print(\"========Final Output===========\")\n",
    "tf.print(\"Output\"+\"\\n\",output)\n",
    "print()\n",
    "tf.print(\"error\"+\"\\n\",(Y - output)**2)\n",
    "print(\"===============================\")"
   ]
  },
  {
   "cell_type": "code",
   "execution_count": null,
   "metadata": {},
   "outputs": [],
   "source": []
  },
  {
   "cell_type": "code",
   "execution_count": 6,
   "metadata": {},
   "outputs": [
    {
     "name": "stdout",
     "output_type": "stream",
     "text": [
      "tf.Tensor(0.13214544534342768, shape=(), dtype=float64)\n"
     ]
    }
   ],
   "source": [
    "import tensorflow as tf\n",
    "import numpy as np\n",
    "import pandas as pd\n",
    "\n",
    "from sklearn import preprocessing\n",
    "from sklearn import datasets\n",
    "from sklearn.model_selection import train_test_split\n",
    "\n",
    "RANDOM_SEED = 42\n",
    "tf.random.set_seed(RANDOM_SEED)\n",
    "\n",
    "\n",
    "data = pd.read_csv('/Users/swp/Downloads/Advertising.csv')\n",
    "features = data[['TV','Radio','Newspaper','Sales']]\n",
    "featuresScale = preprocessing.minmax_scale(features)\n",
    "\n",
    "il = 3\n",
    "l1 = 5\n",
    "ol = 1\n",
    "\n",
    "X = featuresScale[0:,:il]\n",
    "y = featuresScale[:,-1]\n",
    "X_train, X_test, y_train, y_test = train_test_split(X,y, train_size=0.30, random_state=RANDOM_SEED)\n",
    "\n",
    "W1 = 2*np.random.random((X_train.shape[1],l1)) - 1\n",
    "W2 = 2*np.random.random((l1,ol)) -1\n",
    "b1 = [tf.zeros(l1)]\n",
    "b2 = [tf.zeros(ol)]\n",
    "\n",
    "H1 = tf.linalg.matmul(X_train, W1) + b1\n",
    "H1 = tf.nn.relu(H1)\n",
    "\n",
    "pred_tensor = tf.linalg.matmul(H1, W2) + b2\n",
    "\n",
    "predict = tf.argmax(pred_tensor, axis=1)\n",
    "\n",
    "\n",
    "cost = tf.reduce_mean((y_train - pred_tensor)**2)\n",
    "\n",
    "print(cost)\n",
    "\n"
   ]
  },
  {
   "cell_type": "code",
   "execution_count": null,
   "metadata": {},
   "outputs": [],
   "source": []
  },
  {
   "cell_type": "code",
   "execution_count": null,
   "metadata": {},
   "outputs": [],
   "source": []
  },
  {
   "cell_type": "code",
   "execution_count": null,
   "metadata": {},
   "outputs": [],
   "source": []
  }
 ],
 "metadata": {
  "kernelspec": {
   "display_name": "Python 3",
   "language": "python",
   "name": "python3"
  },
  "language_info": {
   "codemirror_mode": {
    "name": "ipython",
    "version": 3
   },
   "file_extension": ".py",
   "mimetype": "text/x-python",
   "name": "python",
   "nbconvert_exporter": "python",
   "pygments_lexer": "ipython3",
   "version": "3.7.4"
  }
 },
 "nbformat": 4,
 "nbformat_minor": 2
}
