{
 "cells": [
  {
   "cell_type": "code",
   "execution_count": 91,
   "metadata": {},
   "outputs": [],
   "source": [
    "import numpy as np\n",
    "import matplotlib.pyplot as plt\n",
    "import random\n",
    "\n",
    "\n",
    "gamma = .01\n",
    "epsilon = 0.0000001\n",
    "max_it = 100000\n",
    "lossind = []\n",
    "lossdepx = []\n",
    "lossdepy = []\n",
    "\n",
    "\n",
    "def f(x,y):\n",
    "   \n",
    "   return (25. - np.square(x - 3.) - np.square(y - 2.))\n",
    "    \n",
    "    \n"
   ]
  },
  {
   "cell_type": "code",
   "execution_count": 92,
   "metadata": {},
   "outputs": [],
   "source": [
    "def df(x,y):\n",
    "    \n",
    "    return   [(2*(x - 3))/f(x,y),(2*(y - 2))/f(x,y)]\n",
    "\n",
    "    "
   ]
  },
  {
   "cell_type": "code",
   "execution_count": null,
   "metadata": {},
   "outputs": [],
   "source": []
  },
  {
   "cell_type": "code",
   "execution_count": 93,
   "metadata": {},
   "outputs": [
    {
     "name": "stdout",
     "output_type": "stream",
     "text": [
      "starting values\n",
      "[0.04589898189694408, 0.5805322595222061]\n",
      "\n"
     ]
    }
   ],
   "source": [
    "#x = random.random()\n",
    "#y = random.random()\n",
    "x,y = [0.04589898189694408, 0.5805322595222061]\n",
    "print(\"starting values\")\n",
    "print([x,y])\n",
    "print()\n",
    "\n",
    "\n",
    "for c in range(max_it):\n",
    "    \n",
    "    dfx,dfy = df(x,y)\n",
    "    tx = x\n",
    "    ty = y\n",
    "   # VdWx = beta * VdW + (1 - beta ) * dfx\n",
    "   # VdWy = beta * VdW + (1 - beta ) * dfy\n",
    "    x = x - gamma *  dfx\n",
    "    y = y - gamma *  dfy\n",
    "    lossind.append(c)\n",
    "    lossdepx.append(x - tx)\n",
    "    lossdepy.append(y - ty)\n",
    "   \n",
    "    #print([np.abs(x - tx) ,np.abs(y - ty), f(x,y),c])\n",
    "    if (np.abs(x - tx) < epsilon and np.abs(y - ty) < epsilon):\n",
    "        break\n",
    "   \n",
    "   \n"
   ]
  },
  {
   "cell_type": "code",
   "execution_count": 94,
   "metadata": {},
   "outputs": [
    {
     "name": "stdout",
     "output_type": "stream",
     "text": [
      "extrema  -4.9999999980824805\n",
      "x is  2.9998751867402724\n",
      "y is  1.9999400262906775\n",
      "epochs  12315\n"
     ]
    }
   ],
   "source": [
    "results = [-np.sqrt(f(x,y)),x,y,c]\n",
    "print(\"extrema \",results[0])\n",
    "print('x is ',results[1])\n",
    "print('y is ',results[2])\n",
    "print('epochs ',results[3])"
   ]
  },
  {
   "cell_type": "code",
   "execution_count": 95,
   "metadata": {},
   "outputs": [
    {
     "data": {
      "image/png": "[encoded data removed]",
      "text/plain": [
       "<Figure size 504x360 with 1 Axes>"
      ]
     },
     "metadata": {
      "needs_background": "light"
     },
     "output_type": "display_data"
    }
   ],
   "source": [
    "plt.figure(1, figsize=(7, 5))\n",
    "plt.plot(lossind,lossdepx, label = \"x\")\n",
    "plt.plot(lossind,lossdepy,label = \"y\")\n",
    "plt.legend()\n",
    "plt.xlabel('Number of Epochs')\n",
    "plt.ylabel('loss')\n",
    "plt.title('Naive Gradient Descent')\n",
    "plt.grid(True)\n",
    "plt.show()\n",
    "\n",
    "\n"
   ]
  },
  {
   "cell_type": "code",
   "execution_count": 96,
   "metadata": {},
   "outputs": [
    {
     "name": "stdout",
     "output_type": "stream",
     "text": [
      "Classic Gradient Descent\n",
      "extrema  -4.9999999980824805\n",
      "x is  2.9998751867402724\n",
      "y is  1.9999400262906775\n",
      "epochs  12315\n"
     ]
    }
   ],
   "source": [
    "print(\"Classic Gradient Descent\")\n",
    "print(\"extrema \",results[0])\n",
    "print('x is ',results[1])\n",
    "print('y is ',results[2])\n",
    "print('epochs ',results[3])"
   ]
  },
  {
   "cell_type": "code",
   "execution_count": null,
   "metadata": {},
   "outputs": [],
   "source": []
  },
  {
   "cell_type": "code",
   "execution_count": null,
   "metadata": {},
   "outputs": [],
   "source": []
  }
 ],
 "metadata": {
  "kernelspec": {
   "display_name": "Python 3",
   "language": "python",
   "name": "python3"
  },
  "language_info": {
   "codemirror_mode": {
    "name": "ipython",
    "version": 3
   },
   "file_extension": ".py",
   "mimetype": "text/x-python",
   "name": "python",
   "nbconvert_exporter": "python",
   "pygments_lexer": "ipython3",
   "version": "3.7.4"
  }
 },
 "nbformat": 4,
 "nbformat_minor": 2
}
